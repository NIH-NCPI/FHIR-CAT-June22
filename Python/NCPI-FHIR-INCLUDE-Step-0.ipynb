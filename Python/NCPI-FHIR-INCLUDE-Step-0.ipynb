{
 "cells": [
  {
   "cell_type": "markdown",
   "id": "e0759183",
   "metadata": {},
   "source": [
    "# FHIR for Research Workshop\n",
    "## Exercise 0 - Getting Started\n",
    "#### Exercise Objective: Introduce you to the basic mechanisms for working with FHIR\n",
    "\n",
    "For this exercise, we will walk you through the following steps:\n",
    "<ol>\n",
    "    <li> Establish a connection to the client server</li>\n",
    "    <li> Format and submit a query to the server </li>\n",
    "    <li> Process response data from the FHIR server as a JSON document.</li>\n",
    "    <li> View the resulting JSON to confirm that we successfully pulled data from the remote server.</li>\n",
    "    </ol>\n",
    "\n",
    "### Icons in this Guide\n",
    " 📘 A link to a useful external reference related to the section the icon appears in  "
   ]
  },
  {
   "cell_type": "markdown",
   "id": "e1b59f60",
   "metadata": {},
   "source": [
    "## Step 1: Establish a Connection to the FHIR Server\n",
    "\n",
    "First, Let's string together a basic query to get the status of our FHIR server.  We'll use the python requests library to submit a RESTful HTTP GET request formatted as a URL.\n",
    "\n",
    "Generally we'll want to use the following python notation for all our HTTP requests:\n",
    "\n",
    "```\n",
    "r = s.get(url)\n",
    "```\n",
    "\n",
    "In this case, we'll start with a basic query to make sure the server is up and everything is working. We'll talk more about what this request is for in the next exercise."
   ]
  },
  {
   "cell_type": "code",
   "execution_count": 1,
   "id": "e490f7e1",
   "metadata": {},
   "outputs": [],
   "source": [
    "# For making HTTP requests to the FHIR server\n",
    "import requests\n",
    "\n",
    "# Configure requests session with standard headers\n",
    "s = requests.Session()\n",
    "\n",
    "# Optional: Turn off SSL verification. Useful when dealing with a corporate proxy with self-signed certificates.\n",
    "s.verify = False\n",
    "requests.packages.urllib3.disable_warnings()"
   ]
  },
  {
   "cell_type": "code",
   "execution_count": 2,
   "id": "e1ee864a",
   "metadata": {},
   "outputs": [
    {
     "data": {
      "text/plain": [
       "<Response [200]>"
      ]
     },
     "execution_count": 2,
     "metadata": {},
     "output_type": "execute_result"
    }
   ],
   "source": [
    "# Using the URI provided from https://github.com/NIH-NCPI/FHIR-CAT-June22/blob/main/INCLUDE.md\n",
    "r = s.get(\"https://include-api-fhir-service.includedcc.org\") \n",
    "r"
   ]
  },
  {
   "cell_type": "markdown",
   "id": "5932601d",
   "metadata": {},
   "source": [
    "Hopefully you got a server status = <Response [200]> meaning the server is up and running!"
   ]
  },
  {
   "cell_type": "markdown",
   "id": "16b58166",
   "metadata": {},
   "source": [
    "## Step 2: Format and submit a query to the server\n",
    "\n",
    "We are now positioned to submit specific queries to our FHIR server and retrieve data.\n",
    "\n",
    "Generally speaking the pattern for a RESTful GET query appended to a URL will take the form of: \n",
    "\n",
    "```\n",
    "VERB [url]/[Resource]/[id] {?parameter=[value]}\n",
    "```\n",
    "\n",
    "Let's submit a sample query to return the basic information from a single patient: `smart-1032702`:\n",
    "\n",
    "- `[URL] = https://include-api-fhir-service.includedcc.org`\n",
    "- `[Resource] = Patient`\n",
    "- `ID = smart-1032702`\n",
    "\n",
    "📘[Read more about FHIR HTTP Interactions](http://hl7.org/fhir/R4/http.html)"
   ]
  },
  {
   "cell_type": "code",
   "execution_count": 5,
   "id": "38a18304",
   "metadata": {},
   "outputs": [
    {
     "data": {
      "text/plain": [
       "<Response [200]>"
      ]
     },
     "execution_count": 5,
     "metadata": {},
     "output_type": "execute_result"
    }
   ],
   "source": [
    "patient = s.get(f\"https://include-api-fhir-service.includedcc.org/Patient/HTP0001\", headers={'Accept':'application/fhir+json'}, verify=False)\n",
    "patient"
   ]
  },
  {
   "cell_type": "markdown",
   "id": "e870fe6a",
   "metadata": {},
   "source": [
    "So if you output the resulting query we again (hopefully!) get a 200 status response telling us our query was successfully received. We now have to convert the response into a format we can parse locally, and to do that we'll need the JSON Library!"
   ]
  },
  {
   "cell_type": "markdown",
   "id": "7c350ecf",
   "metadata": {},
   "source": [
    "## Step 3: Process response data from the FHIR server as a JSON document\n",
    "\n",
    "The Requests library provides a `.json` method for decoding JSON HTTP response payloads into python."
   ]
  },
  {
   "cell_type": "code",
   "execution_count": 7,
   "id": "84da38bd",
   "metadata": {},
   "outputs": [
    {
     "ename": "JSONDecodeError",
     "evalue": "Expecting value: line 1 column 1 (char 0)",
     "output_type": "error",
     "traceback": [
      "\u001b[0;31m---------------------------------------------------------------------------\u001b[0m",
      "\u001b[0;31mJSONDecodeError\u001b[0m                           Traceback (most recent call last)",
      "\u001b[0;32m/tmp/ipykernel_1116/3101348230.py\u001b[0m in \u001b[0;36m<module>\u001b[0;34m\u001b[0m\n\u001b[0;32m----> 1\u001b[0;31m \u001b[0mpatient_json\u001b[0m \u001b[0;34m=\u001b[0m \u001b[0mpatient\u001b[0m\u001b[0;34m.\u001b[0m\u001b[0mjson\u001b[0m\u001b[0;34m(\u001b[0m\u001b[0;34m)\u001b[0m\u001b[0;34m\u001b[0m\u001b[0;34m\u001b[0m\u001b[0m\n\u001b[0m",
      "\u001b[0;32m/opt/conda/lib/python3.9/site-packages/requests/models.py\u001b[0m in \u001b[0;36mjson\u001b[0;34m(self, **kwargs)\u001b[0m\n\u001b[1;32m    908\u001b[0m                     \u001b[0;31m# used.\u001b[0m\u001b[0;34m\u001b[0m\u001b[0;34m\u001b[0m\u001b[0;34m\u001b[0m\u001b[0m\n\u001b[1;32m    909\u001b[0m                     \u001b[0;32mpass\u001b[0m\u001b[0;34m\u001b[0m\u001b[0;34m\u001b[0m\u001b[0m\n\u001b[0;32m--> 910\u001b[0;31m         \u001b[0;32mreturn\u001b[0m \u001b[0mcomplexjson\u001b[0m\u001b[0;34m.\u001b[0m\u001b[0mloads\u001b[0m\u001b[0;34m(\u001b[0m\u001b[0mself\u001b[0m\u001b[0;34m.\u001b[0m\u001b[0mtext\u001b[0m\u001b[0;34m,\u001b[0m \u001b[0;34m**\u001b[0m\u001b[0mkwargs\u001b[0m\u001b[0;34m)\u001b[0m\u001b[0;34m\u001b[0m\u001b[0;34m\u001b[0m\u001b[0m\n\u001b[0m\u001b[1;32m    911\u001b[0m \u001b[0;34m\u001b[0m\u001b[0m\n\u001b[1;32m    912\u001b[0m     \u001b[0;34m@\u001b[0m\u001b[0mproperty\u001b[0m\u001b[0;34m\u001b[0m\u001b[0;34m\u001b[0m\u001b[0m\n",
      "\u001b[0;32m/opt/conda/lib/python3.9/json/__init__.py\u001b[0m in \u001b[0;36mloads\u001b[0;34m(s, cls, object_hook, parse_float, parse_int, parse_constant, object_pairs_hook, **kw)\u001b[0m\n\u001b[1;32m    344\u001b[0m             \u001b[0mparse_int\u001b[0m \u001b[0;32mis\u001b[0m \u001b[0;32mNone\u001b[0m \u001b[0;32mand\u001b[0m \u001b[0mparse_float\u001b[0m \u001b[0;32mis\u001b[0m \u001b[0;32mNone\u001b[0m \u001b[0;32mand\u001b[0m\u001b[0;34m\u001b[0m\u001b[0;34m\u001b[0m\u001b[0m\n\u001b[1;32m    345\u001b[0m             parse_constant is None and object_pairs_hook is None and not kw):\n\u001b[0;32m--> 346\u001b[0;31m         \u001b[0;32mreturn\u001b[0m \u001b[0m_default_decoder\u001b[0m\u001b[0;34m.\u001b[0m\u001b[0mdecode\u001b[0m\u001b[0;34m(\u001b[0m\u001b[0ms\u001b[0m\u001b[0;34m)\u001b[0m\u001b[0;34m\u001b[0m\u001b[0;34m\u001b[0m\u001b[0m\n\u001b[0m\u001b[1;32m    347\u001b[0m     \u001b[0;32mif\u001b[0m \u001b[0mcls\u001b[0m \u001b[0;32mis\u001b[0m \u001b[0;32mNone\u001b[0m\u001b[0;34m:\u001b[0m\u001b[0;34m\u001b[0m\u001b[0;34m\u001b[0m\u001b[0m\n\u001b[1;32m    348\u001b[0m         \u001b[0mcls\u001b[0m \u001b[0;34m=\u001b[0m \u001b[0mJSONDecoder\u001b[0m\u001b[0;34m\u001b[0m\u001b[0;34m\u001b[0m\u001b[0m\n",
      "\u001b[0;32m/opt/conda/lib/python3.9/json/decoder.py\u001b[0m in \u001b[0;36mdecode\u001b[0;34m(self, s, _w)\u001b[0m\n\u001b[1;32m    335\u001b[0m \u001b[0;34m\u001b[0m\u001b[0m\n\u001b[1;32m    336\u001b[0m         \"\"\"\n\u001b[0;32m--> 337\u001b[0;31m         \u001b[0mobj\u001b[0m\u001b[0;34m,\u001b[0m \u001b[0mend\u001b[0m \u001b[0;34m=\u001b[0m \u001b[0mself\u001b[0m\u001b[0;34m.\u001b[0m\u001b[0mraw_decode\u001b[0m\u001b[0;34m(\u001b[0m\u001b[0ms\u001b[0m\u001b[0;34m,\u001b[0m \u001b[0midx\u001b[0m\u001b[0;34m=\u001b[0m\u001b[0m_w\u001b[0m\u001b[0;34m(\u001b[0m\u001b[0ms\u001b[0m\u001b[0;34m,\u001b[0m \u001b[0;36m0\u001b[0m\u001b[0;34m)\u001b[0m\u001b[0;34m.\u001b[0m\u001b[0mend\u001b[0m\u001b[0;34m(\u001b[0m\u001b[0;34m)\u001b[0m\u001b[0;34m)\u001b[0m\u001b[0;34m\u001b[0m\u001b[0;34m\u001b[0m\u001b[0m\n\u001b[0m\u001b[1;32m    338\u001b[0m         \u001b[0mend\u001b[0m \u001b[0;34m=\u001b[0m \u001b[0m_w\u001b[0m\u001b[0;34m(\u001b[0m\u001b[0ms\u001b[0m\u001b[0;34m,\u001b[0m \u001b[0mend\u001b[0m\u001b[0;34m)\u001b[0m\u001b[0;34m.\u001b[0m\u001b[0mend\u001b[0m\u001b[0;34m(\u001b[0m\u001b[0;34m)\u001b[0m\u001b[0;34m\u001b[0m\u001b[0;34m\u001b[0m\u001b[0m\n\u001b[1;32m    339\u001b[0m         \u001b[0;32mif\u001b[0m \u001b[0mend\u001b[0m \u001b[0;34m!=\u001b[0m \u001b[0mlen\u001b[0m\u001b[0;34m(\u001b[0m\u001b[0ms\u001b[0m\u001b[0;34m)\u001b[0m\u001b[0;34m:\u001b[0m\u001b[0;34m\u001b[0m\u001b[0;34m\u001b[0m\u001b[0m\n",
      "\u001b[0;32m/opt/conda/lib/python3.9/json/decoder.py\u001b[0m in \u001b[0;36mraw_decode\u001b[0;34m(self, s, idx)\u001b[0m\n\u001b[1;32m    353\u001b[0m             \u001b[0mobj\u001b[0m\u001b[0;34m,\u001b[0m \u001b[0mend\u001b[0m \u001b[0;34m=\u001b[0m \u001b[0mself\u001b[0m\u001b[0;34m.\u001b[0m\u001b[0mscan_once\u001b[0m\u001b[0;34m(\u001b[0m\u001b[0ms\u001b[0m\u001b[0;34m,\u001b[0m \u001b[0midx\u001b[0m\u001b[0;34m)\u001b[0m\u001b[0;34m\u001b[0m\u001b[0;34m\u001b[0m\u001b[0m\n\u001b[1;32m    354\u001b[0m         \u001b[0;32mexcept\u001b[0m \u001b[0mStopIteration\u001b[0m \u001b[0;32mas\u001b[0m \u001b[0merr\u001b[0m\u001b[0;34m:\u001b[0m\u001b[0;34m\u001b[0m\u001b[0;34m\u001b[0m\u001b[0m\n\u001b[0;32m--> 355\u001b[0;31m             \u001b[0;32mraise\u001b[0m \u001b[0mJSONDecodeError\u001b[0m\u001b[0;34m(\u001b[0m\u001b[0;34m\"Expecting value\"\u001b[0m\u001b[0;34m,\u001b[0m \u001b[0ms\u001b[0m\u001b[0;34m,\u001b[0m \u001b[0merr\u001b[0m\u001b[0;34m.\u001b[0m\u001b[0mvalue\u001b[0m\u001b[0;34m)\u001b[0m \u001b[0;32mfrom\u001b[0m \u001b[0;32mNone\u001b[0m\u001b[0;34m\u001b[0m\u001b[0;34m\u001b[0m\u001b[0m\n\u001b[0m\u001b[1;32m    356\u001b[0m         \u001b[0;32mreturn\u001b[0m \u001b[0mobj\u001b[0m\u001b[0;34m,\u001b[0m \u001b[0mend\u001b[0m\u001b[0;34m\u001b[0m\u001b[0;34m\u001b[0m\u001b[0m\n",
      "\u001b[0;31mJSONDecodeError\u001b[0m: Expecting value: line 1 column 1 (char 0)"
     ]
    }
   ],
   "source": [
    "patient_json = patient.json()"
   ]
  },
  {
   "cell_type": "markdown",
   "id": "5c8ea70b",
   "metadata": {},
   "source": [
    "## Step 4: View the resulting JSON to confirm that we successfully pulled data from our remote server\n",
    "\n",
    "Let's now output the response data to confirm we successfully accessed the server and queried data."
   ]
  },
  {
   "cell_type": "code",
   "execution_count": 5,
   "id": "139f9c4a",
   "metadata": {},
   "outputs": [
    {
     "data": {
      "text/plain": [
       "{'resourceType': 'Patient',\n",
       " 'id': 'smart-1032702',\n",
       " 'meta': {'versionId': '1',\n",
       "  'lastUpdated': '2020-07-15T02:51:25.000+00:00',\n",
       "  'source': '#KQSArAdbxORTtqVw'},\n",
       " 'text': {'status': 'generated',\n",
       "  'div': '<div xmlns=\"http://www.w3.org/1999/xhtml\">Amy Shaw</div>'},\n",
       " 'identifier': [{'use': 'official',\n",
       "   'type': {'coding': [{'system': 'http://terminology.hl7.org/CodeSystem/v2-0203',\n",
       "      'code': 'MR',\n",
       "      'display': 'Medical Record Number'}],\n",
       "    'text': 'Medical Record Number'},\n",
       "   'system': 'http://hospital.smarthealthit.org',\n",
       "   'value': 'smart-1032702'}],\n",
       " 'active': True,\n",
       " 'name': [{'use': 'official', 'family': 'Shaw', 'given': ['Amy', 'V']}],\n",
       " 'telecom': [{'system': 'phone', 'value': '800-782-6765', 'use': 'mobile'},\n",
       "  {'system': 'email', 'value': 'amy.shaw@example.com'}],\n",
       " 'gender': 'female',\n",
       " 'birthDate': '2007-03-20',\n",
       " 'address': [{'use': 'home',\n",
       "   'line': ['49 Meadow St'],\n",
       "   'city': 'Mounds',\n",
       "   'state': 'OK',\n",
       "   'postalCode': '74047',\n",
       "   'country': 'USA'}],\n",
       " 'generalPractitioner': [{'reference': 'Practitioner/smart-Practitioner-72004454'}]}"
      ]
     },
     "execution_count": 5,
     "metadata": {},
     "output_type": "execute_result"
    }
   ],
   "source": [
    "patient_json"
   ]
  },
  {
   "cell_type": "markdown",
   "id": "cc332e18",
   "metadata": {},
   "source": [
    "We can now visualize the specific patient data stored in this FHIR resource.\n",
    "\n",
    "In the next exercise, we'll look deeper into these and other requests and converting data into a Python Pandas Dataframe for analysis."
   ]
  }
 ],
 "metadata": {
  "kernelspec": {
   "display_name": "Python 3 (ipykernel)",
   "language": "python",
   "name": "python3"
  },
  "language_info": {
   "codemirror_mode": {
    "name": "ipython",
    "version": 3
   },
   "file_extension": ".py",
   "mimetype": "text/x-python",
   "name": "python",
   "nbconvert_exporter": "python",
   "pygments_lexer": "ipython3",
   "version": "3.9.6"
  }
 },
 "nbformat": 4,
 "nbformat_minor": 5
}
