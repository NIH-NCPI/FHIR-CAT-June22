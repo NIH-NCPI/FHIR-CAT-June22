{
 "cells": [
  {
   "cell_type": "markdown",
   "metadata": {},
   "source": [
    "## Data retrieval\n",
    "\n",
    "### From kids first\n",
    "\n",
    "\n",
    "For each study:\n",
    "* SD_DYPMEHHF\n",
    "* SD_8Y99QZJJ\n",
    "* SD_PET7Q6F2\n",
    "\n",
    "\n",
    "\n",
    "e.g.: \n",
    "\n",
    "\n",
    "```\n",
    "kf_curl \"https://kf-api-fhir-service.kidsfirstdrc.org/ResearchSubject?_tag=SD_DYPMEHHF&_count=1000\" | jq -c '.entry[] | .resource' > ResearchSubject.ndjson\n",
    "kf_curl \"https://kf-api-fhir-service.kidsfirstdrc.org/Patient?_tag=SD_DYPMEHHF&_count=1000\" | jq -c '.entry[] | .resource' > Patient.ndjson\n",
    "kf_curl \"https://kf-api-fhir-service.kidsfirstdrc.org/Specimen?_tag=SD_DYPMEHHF&_count=1000\" | jq -c '.entry[] | .resource' > Specimen.ndjson\n",
    "kf_curl \"https://kf-api-fhir-service.kidsfirstdrc.org/DocumentReference?_tag=SD_DYPMEHHF&_count=1000\" | jq -c '.entry[] | .resource' > DocumentReference.ndjson\n",
    "kf_curl \"https://kf-api-fhir-service.kidsfirstdrc.org/Observation?_tag=SD_DYPMEHHF&_count=1000\" | jq -c '.entry[] |.resource' > Observation.ndjson\n",
    "kf_curl \"https://kf-api-fhir-service.kidsfirstdrc.org/ResearchStudy?identifier=SD_DYPMEHHF&_count=1000\" | jq -c '.entry[] | .resource' > ResearchStudy.ndjson\n",
    "```\n",
    "\n",
    "See https://github.com/bmeg/fhir-workshop#data-retrieval for more on kf_curl\n",
    "\n",
    "\n",
    "\n",
    "To install:\n",
    "\n",
    "* from `open terminal` window\n",
    "\n",
    "\n",
    "```\n",
    "git clone https://github.com/bmeg/fhir-workshop\n",
    "cd fhir-workshop\n",
    "pip install -e . \n",
    "```\n",
    "\n",
    "\n",
    "\n",
    "\n",
    "### From workspace bucket \n",
    "\n",
    "from `open terminal` window\n",
    "\n",
    "```\n",
    "cd /home/jupyter/NCPI FHIR CAT 2022 - Working Space/edit\n",
    "gsutil -m cp -r  $WORKSPACE_BUCKET/kids_first .\n",
    "```"
   ]
  },
  {
   "cell_type": "code",
   "execution_count": null,
   "metadata": {},
   "outputs": [],
   "source": []
  }
 ],
 "metadata": {
  "kernelspec": {
   "display_name": "Python 3",
   "language": "python",
   "name": "python3"
  },
  "language_info": {
   "codemirror_mode": {
    "name": "ipython",
    "version": 3
   },
   "file_extension": ".py",
   "mimetype": "text/x-python",
   "name": "python",
   "nbconvert_exporter": "python",
   "pygments_lexer": "ipython3",
   "version": "3.7.12"
  },
  "toc": {
   "base_numbering": 1,
   "nav_menu": {},
   "number_sections": true,
   "sideBar": true,
   "skip_h1_title": false,
   "title_cell": "Table of Contents",
   "title_sidebar": "Contents",
   "toc_cell": false,
   "toc_position": {},
   "toc_section_display": true,
   "toc_window_display": false
  }
 },
 "nbformat": 4,
 "nbformat_minor": 2
}
